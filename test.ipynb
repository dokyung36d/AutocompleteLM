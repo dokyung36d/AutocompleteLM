{
 "cells": [
  {
   "cell_type": "code",
   "execution_count": 1,
   "metadata": {},
   "outputs": [
    {
     "name": "stdout",
     "output_type": "stream",
     "text": [
      "2.0.0+cu117\n"
     ]
    }
   ],
   "source": [
    "import multiprocessing, torch, re\n",
    "import os.path as osp\n",
    "import datasets\n",
    "\n",
    "from transformers import EncoderDecoderModel, BertTokenizerFast,\\\n",
    "    Seq2SeqTrainer, Seq2SeqTrainingArguments\n",
    "from tokenization_kobert import KoBertTokenizer\n",
    "from datasets import load_dataset, Dataset\n",
    "from evaluate import load as load_metric\n",
    "from tqdm.auto import tqdm\n",
    "from time import strftime, time, localtime\n",
    "from os import listdir\n",
    "from functools import partial\n",
    "from typing import List\n",
    "from zipfile import ZipFile\n",
    "\n",
    "from utils import rouge, load_dataset\n",
    "\n",
    "print(torch.__version__)"
   ]
  },
  {
   "cell_type": "code",
   "execution_count": 2,
   "metadata": {},
   "outputs": [
    {
     "name": "stderr",
     "output_type": "stream",
     "text": [
      "The following encoder weights were not tied to the decoder ['bert/pooler']\n",
      "The following encoder weights were not tied to the decoder ['bert/pooler']\n"
     ]
    },
    {
     "data": {
      "text/plain": [
       "EncoderDecoderModel(\n",
       "  (encoder): BertModel(\n",
       "    (embeddings): BertEmbeddings(\n",
       "      (word_embeddings): Embedding(42000, 768, padding_idx=0)\n",
       "      (position_embeddings): Embedding(512, 768)\n",
       "      (token_type_embeddings): Embedding(2, 768)\n",
       "      (LayerNorm): LayerNorm((768,), eps=1e-12, elementwise_affine=True)\n",
       "      (dropout): Dropout(p=0.1, inplace=False)\n",
       "    )\n",
       "    (encoder): BertEncoder(\n",
       "      (layer): ModuleList(\n",
       "        (0-11): 12 x BertLayer(\n",
       "          (attention): BertAttention(\n",
       "            (self): BertSelfAttention(\n",
       "              (query): Linear(in_features=768, out_features=768, bias=True)\n",
       "              (key): Linear(in_features=768, out_features=768, bias=True)\n",
       "              (value): Linear(in_features=768, out_features=768, bias=True)\n",
       "              (dropout): Dropout(p=0.1, inplace=False)\n",
       "            )\n",
       "            (output): BertSelfOutput(\n",
       "              (dense): Linear(in_features=768, out_features=768, bias=True)\n",
       "              (LayerNorm): LayerNorm((768,), eps=1e-12, elementwise_affine=True)\n",
       "              (dropout): Dropout(p=0.1, inplace=False)\n",
       "            )\n",
       "          )\n",
       "          (intermediate): BertIntermediate(\n",
       "            (dense): Linear(in_features=768, out_features=3072, bias=True)\n",
       "            (intermediate_act_fn): GELUActivation()\n",
       "          )\n",
       "          (output): BertOutput(\n",
       "            (dense): Linear(in_features=3072, out_features=768, bias=True)\n",
       "            (LayerNorm): LayerNorm((768,), eps=1e-12, elementwise_affine=True)\n",
       "            (dropout): Dropout(p=0.1, inplace=False)\n",
       "          )\n",
       "        )\n",
       "      )\n",
       "    )\n",
       "    (pooler): BertPooler(\n",
       "      (dense): Linear(in_features=768, out_features=768, bias=True)\n",
       "      (activation): Tanh()\n",
       "    )\n",
       "  )\n",
       "  (decoder): BertLMHeadModel(\n",
       "    (bert): BertModel(\n",
       "      (embeddings): BertEmbeddings(\n",
       "        (word_embeddings): Embedding(42000, 768, padding_idx=0)\n",
       "        (position_embeddings): Embedding(512, 768)\n",
       "        (token_type_embeddings): Embedding(2, 768)\n",
       "        (LayerNorm): LayerNorm((768,), eps=1e-12, elementwise_affine=True)\n",
       "        (dropout): Dropout(p=0.1, inplace=False)\n",
       "      )\n",
       "      (encoder): BertEncoder(\n",
       "        (layer): ModuleList(\n",
       "          (0-11): 12 x BertLayer(\n",
       "            (attention): BertAttention(\n",
       "              (self): BertSelfAttention(\n",
       "                (query): Linear(in_features=768, out_features=768, bias=True)\n",
       "                (key): Linear(in_features=768, out_features=768, bias=True)\n",
       "                (value): Linear(in_features=768, out_features=768, bias=True)\n",
       "                (dropout): Dropout(p=0.1, inplace=False)\n",
       "              )\n",
       "              (output): BertSelfOutput(\n",
       "                (dense): Linear(in_features=768, out_features=768, bias=True)\n",
       "                (LayerNorm): LayerNorm((768,), eps=1e-12, elementwise_affine=True)\n",
       "                (dropout): Dropout(p=0.1, inplace=False)\n",
       "              )\n",
       "            )\n",
       "            (crossattention): BertAttention(\n",
       "              (self): BertSelfAttention(\n",
       "                (query): Linear(in_features=768, out_features=768, bias=True)\n",
       "                (key): Linear(in_features=768, out_features=768, bias=True)\n",
       "                (value): Linear(in_features=768, out_features=768, bias=True)\n",
       "                (dropout): Dropout(p=0.1, inplace=False)\n",
       "              )\n",
       "              (output): BertSelfOutput(\n",
       "                (dense): Linear(in_features=768, out_features=768, bias=True)\n",
       "                (LayerNorm): LayerNorm((768,), eps=1e-12, elementwise_affine=True)\n",
       "                (dropout): Dropout(p=0.1, inplace=False)\n",
       "              )\n",
       "            )\n",
       "            (intermediate): BertIntermediate(\n",
       "              (dense): Linear(in_features=768, out_features=3072, bias=True)\n",
       "              (intermediate_act_fn): GELUActivation()\n",
       "            )\n",
       "            (output): BertOutput(\n",
       "              (dense): Linear(in_features=3072, out_features=768, bias=True)\n",
       "              (LayerNorm): LayerNorm((768,), eps=1e-12, elementwise_affine=True)\n",
       "              (dropout): Dropout(p=0.1, inplace=False)\n",
       "            )\n",
       "          )\n",
       "        )\n",
       "      )\n",
       "    )\n",
       "    (cls): BertOnlyMLMHead(\n",
       "      (predictions): BertLMPredictionHead(\n",
       "        (transform): BertPredictionHeadTransform(\n",
       "          (dense): Linear(in_features=768, out_features=768, bias=True)\n",
       "          (transform_act_fn): GELUActivation()\n",
       "          (LayerNorm): LayerNorm((768,), eps=1e-12, elementwise_affine=True)\n",
       "        )\n",
       "        (decoder): Linear(in_features=768, out_features=42000, bias=True)\n",
       "      )\n",
       "    )\n",
       "  )\n",
       ")"
      ]
     },
     "execution_count": 2,
     "metadata": {},
     "output_type": "execute_result"
    }
   ],
   "source": [
    "# model_path = \"skt/kogpt2-base-v2\"\n",
    "# tokenizer = PreTrainedTokenizerFast.from_pretrained(model_path, \n",
    "#                                                     bos_token='</s>', eos_token='</s>', unk_token='<unk>',\n",
    "#                                                     pad_token='<pad>', mask_token='<mask>', max_length=512)\n",
    "# model = GPT2LMHeadModel.from_pretrained(model_path)\n",
    "# model = BertForMaskedLM.from_pretrained(\"skt/kobert-base-v1\")\n",
    "# model = AutoModel.from_pretrained('monologg/distilkobert')\n",
    "# model = BertForMaskedLM.from_pretrained(\"monologg/kobert-lm\")\n",
    "# tokenizer = KoBertTokenizer.from_pretrained('monologg/distilkobert')\n",
    "model = EncoderDecoderModel.from_pretrained(\"kykim/bertshared-kor-base\")\n",
    "tokenizer = BertTokenizerFast.from_pretrained(\"kykim/bertshared-kor-base\")\n",
    "model"
   ]
  },
  {
   "cell_type": "code",
   "execution_count": 3,
   "metadata": {},
   "outputs": [],
   "source": [
    "# sent = \"안녕하세요.[MASK][MASK][MASK][MASK][MASK][MASK]\"\n",
    "\n",
    "# collator = DataCollatorWithPadding(tokenizer=tokenizer, return_tensors=\"pt\")\n",
    "# encoded = tokenizer(sent, return_tensors=\"pt\")\n",
    "# target = tokenizer(\"안녕하세요\", return_tensors='pt')\n",
    "\n",
    "# out = model(**encoded)\n",
    "# pipe = FillMaskPipeline(model=model, tokenizer=tokenizer)\n",
    "# while True:\n",
    "#     t = model(**encoded)\n",
    "#     logits:torch.Tensor = t.logits\n",
    "#     predicted_token = logits[:,-1,:].argmax(dim=1)\n",
    "#     print(tokenizer.decode(predicted_token))\n",
    "\n",
    "# print(tokenizer.decode(logits[:,-1,:].argmax(dim=1)))"
   ]
  },
  {
   "cell_type": "code",
   "execution_count": 4,
   "metadata": {},
   "outputs": [],
   "source": [
    "# pipe(\"안녕하[MASK][MASK]\")"
   ]
  },
  {
   "cell_type": "code",
   "execution_count": 5,
   "metadata": {},
   "outputs": [],
   "source": [
    "# mask_idxs = encoded['input_ids'] == tokenizer.mask_token_id\n",
    "# print(mask_idxs)\n",
    "# print(out.logits.shape)\n",
    "# masks = out.logits[mask_idxs].argmax(dim=-1)\n",
    "# print(masks)\n",
    "# print(tokenizer.decode(masks))\n",
    "# predicted_token = out.logits[0,-1].argmax(-1)\n",
    "# tokenizer.decode(predicted_token)"
   ]
  },
  {
   "cell_type": "code",
   "execution_count": 6,
   "metadata": {},
   "outputs": [],
   "source": [
    "# dataset = load_dataset(\"HuggingFaceH4/ultrachat_200k\")\n",
    "# dataset = load_dataset(\"wikipedia\", \"20220301.en\")\n",
    "# dataset = dataset.remove_columns([col for col in dataset.column_names if col != 'text'])\n",
    "# dataset = load_dataset(\"bookcorpus\", split=\"train\", streaming=True).with_format('torch')\n",
    "# dataset = load_dataset(\"bookcorpus\", split=\"train\")\n",
    "# dataset"
   ]
  },
  {
   "cell_type": "code",
   "execution_count": 7,
   "metadata": {},
   "outputs": [],
   "source": [
    "# def batch_iterator(batch_size=10000):\n",
    "#     for i in tqdm(range(0, len(dataset['train']), batch_size)):\n",
    "#         yield dataset['train'][i:i+batch_size]['text']\n",
    "# if [_dir for _dir in listdir() if \"tokenizer\" in _dir] != []:\n",
    "#     latest_tokenizer_path = sorted([_dir for _dir in listdir() if \"tokenizer\" in _dir])[-1]\n",
    "#     tokenizer = AutoTokenizer.from_pretrained(latest_tokenizer_path)\n",
    "# else:\n",
    "#     # tokenizer = AutoTokenizer.from_pretrained(\"skt/kogpt2-base-v2\").train_new_from_iterator(text_iterator=batch_iterator(), vocab_size=32_000)\n",
    "#     tokenizer = AutoTokenizer.from_pretrained(\"skplanet/dialog-koelectra-small-discriminator\").train_new_from_iterator(text_iterator=batch_iterator(), vocab_size=32_000)\n",
    "#     tokenizer.save_pretrained(get_time_dir())\n",
    "\n",
    "# tokenizer.pad_token = '<pad>'\n",
    "# tokenizer.eos_token = '</s>'\n",
    "# tokenizer.bos_token = '</s>'\n",
    "# tokenizer.unk_token = '<unk>'\n",
    "# tokenizer.mask_token = '<mask>'\n",
    "# tokenizer.model_max_length = 32"
   ]
  },
  {
   "cell_type": "code",
   "execution_count": 8,
   "metadata": {},
   "outputs": [
    {
     "name": "stdout",
     "output_type": "stream",
     "text": [
      "The max length for the tokenizer is: 512\n"
     ]
    }
   ],
   "source": [
    "print(f\"The max length for the tokenizer is: {tokenizer.model_max_length}\")"
   ]
  },
  {
   "cell_type": "code",
   "execution_count": 9,
   "metadata": {},
   "outputs": [],
   "source": [
    "def get_time_dir(): return f\"{strftime('%m-%d-%H-%M', localtime(time()))}\""
   ]
  },
  {
   "cell_type": "code",
   "execution_count": 10,
   "metadata": {},
   "outputs": [],
   "source": [
    "from utils import load_iter_train_test\n",
    "# dataset = load_dataset(tokenizer=tokenizer)\n",
    "trainset, testset = load_iter_train_test(tokenizer=tokenizer)"
   ]
  },
  {
   "cell_type": "code",
   "execution_count": 11,
   "metadata": {},
   "outputs": [],
   "source": [
    "# one = dataset['train'][0]\n",
    "# one"
   ]
  },
  {
   "cell_type": "code",
   "execution_count": 12,
   "metadata": {},
   "outputs": [],
   "source": [
    "model.config.decoder_start_token_id = tokenizer.bos_token_id\n",
    "model.config.eos_token_id = tokenizer.eos_token_id\n",
    "model.config.pad_token_id = tokenizer.pad_token_id\n",
    "\n",
    "model.config.max_length = 32\n",
    "model.config.early_stopping = True\n",
    "# model.config.no_repeat_ngram_size = 1\n",
    "model.config.length_penalty = 2.\n",
    "model.config.repetition_penalty = 3.\n",
    "model.config.num_beams = 10\n",
    "model.config.vocab_size = model.config.encoder.vocab_size"
   ]
  },
  {
   "cell_type": "code",
   "execution_count": 13,
   "metadata": {},
   "outputs": [],
   "source": [
    "args = Seq2SeqTrainingArguments(\n",
    "    output_dir=f\"output-{get_time_dir()}\",\n",
    "    per_device_train_batch_size=4,\n",
    "    per_device_eval_batch_size=4,\n",
    "    predict_with_generate=True,\n",
    "    evaluation_strategy=\"steps\",\n",
    "    do_train=True,\n",
    "    do_eval=True,\n",
    "    eval_steps=1_000,\n",
    "    logging_steps=1_000,\n",
    "    gradient_accumulation_steps=8,\n",
    "    # num_train_epochs=1,\n",
    "    weight_decay=.1,\n",
    "    warmup_steps=1_000,\n",
    "    lr_scheduler_type=\"cosine\",\n",
    "    learning_rate=5e-4,\n",
    "    save_steps=2_000,\n",
    "    fp16=True,\n",
    "    num_train_epochs=5,\n",
    "    save_total_limit=1,\n",
    "    max_steps=100_000\n",
    ")\n",
    "\n",
    "trainer = Seq2SeqTrainer(\n",
    "    model=model,\n",
    "    tokenizer=tokenizer,\n",
    "    args=args,\n",
    "    compute_metrics=partial(rouge, tokenizer=tokenizer),\n",
    "    train_dataset=trainset,\n",
    "    eval_dataset=testset,\n",
    ")"
   ]
  },
  {
   "cell_type": "code",
   "execution_count": 14,
   "metadata": {},
   "outputs": [],
   "source": [
    "# config = AutoConfig.from_pretrained(\n",
    "#     \"gpt2\",\n",
    "#     vocab_size = len(tokenizer),\n",
    "#     n_ctx = tokenizer.model_max_length,\n",
    "#     bos_token_id=tokenizer.bos_token_id,\n",
    "#     eos_token_id=tokenizer.eos_token_id,\n",
    "# )\n",
    "# model = GPT2LMHeadModel(config)\n",
    "# model_size = sum(t.numel() for t in model.parameters())\n",
    "# print(f\"GPT-2 size: {model_size/1000**2:.1f}M parameters\")\n",
    "# data_collator = DataCollatorForLanguageModeling(tokenizer, mlm=False)"
   ]
  },
  {
   "cell_type": "code",
   "execution_count": 15,
   "metadata": {},
   "outputs": [
    {
     "name": "stderr",
     "output_type": "stream",
     "text": [
      "c:\\Users\\sizzf\\.conda\\envs\\torch\\lib\\site-packages\\transformers\\optimization.py:407: FutureWarning: This implementation of AdamW is deprecated and will be removed in a future version. Use the PyTorch implementation torch.optim.AdamW instead, or set `no_deprecation_warning=True` to disable this warning\n",
      "  warnings.warn(\n"
     ]
    },
    {
     "data": {
      "application/vnd.jupyter.widget-view+json": {
       "model_id": "d427dc54c3944e0894f87e7b28f49dd3",
       "version_major": 2,
       "version_minor": 0
      },
      "text/plain": [
       "  0%|          | 0/100000 [00:00<?, ?it/s]"
      ]
     },
     "metadata": {},
     "output_type": "display_data"
    },
    {
     "name": "stdout",
     "output_type": "stream",
     "text": [
      "text: 응, 난 엄청 끈처, label: 근처에\n"
     ]
    },
    {
     "name": "stderr",
     "output_type": "stream",
     "text": [
      "You're using a BertTokenizerFast tokenizer. Please note that with a fast tokenizer, using the `__call__` method is faster than using a method to encode the text followed by a call to the `pad` method to get a padded encoding.\n",
      "c:\\Users\\sizzf\\.conda\\envs\\torch\\lib\\site-packages\\transformers\\models\\encoder_decoder\\modeling_encoder_decoder.py:634: FutureWarning: Version v4.12.0 introduces a better way to train encoder-decoder models by computing the loss inside the encoder-decoder framework rather than in the decoder itself. You may observe training discrepancies if fine-tuning a model trained with versions anterior to 4.12.0. The decoder_input_ids are now created based on the labels, no need to pass them yourself anymore.\n",
      "  warnings.warn(DEPRECATION_WARNING, FutureWarning)\n"
     ]
    }
   ],
   "source": [
    "trainer.train()"
   ]
  },
  {
   "cell_type": "code",
   "execution_count": null,
   "metadata": {},
   "outputs": [],
   "source": []
  }
 ],
 "metadata": {
  "kernelspec": {
   "display_name": "torch",
   "language": "python",
   "name": "python3"
  },
  "language_info": {
   "codemirror_mode": {
    "name": "ipython",
    "version": 3
   },
   "file_extension": ".py",
   "mimetype": "text/x-python",
   "name": "python",
   "nbconvert_exporter": "python",
   "pygments_lexer": "ipython3",
   "version": "3.9.16"
  }
 },
 "nbformat": 4,
 "nbformat_minor": 2
}
