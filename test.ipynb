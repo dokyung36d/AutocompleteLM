{
 "cells": [
  {
   "cell_type": "code",
   "execution_count": 1,
   "metadata": {},
   "outputs": [
    {
     "name": "stdout",
     "output_type": "stream",
     "text": [
      "2.0.0+cu117\n"
     ]
    }
   ],
   "source": [
    "import multiprocessing, torch, re\n",
    "import os.path as osp\n",
    "import datasets\n",
    "\n",
    "from transformers import EncoderDecoderModel, BertTokenizerFast,\\\n",
    "    Seq2SeqTrainer, Seq2SeqTrainingArguments\n",
    "from tokenization_kobert import KoBertTokenizer\n",
    "from datasets import load_dataset, Dataset\n",
    "from evaluate import load as load_metric\n",
    "from tqdm.auto import tqdm\n",
    "from time import strftime, time, localtime\n",
    "from os import listdir\n",
    "from functools import partial\n",
    "from typing import List\n",
    "from zipfile import ZipFile\n",
    "\n",
    "from utils import rouge, load_dataset\n",
    "\n",
    "print(torch.__version__)"
   ]
  },
  {
   "cell_type": "code",
   "execution_count": 2,
   "metadata": {},
   "outputs": [
    {
     "name": "stderr",
     "output_type": "stream",
     "text": [
      "The following encoder weights were not tied to the decoder ['bert/pooler']\n",
      "The following encoder weights were not tied to the decoder ['bert/pooler']\n"
     ]
    }
   ],
   "source": [
    "# model_path = \"skt/kogpt2-base-v2\"\n",
    "# tokenizer = PreTrainedTokenizerFast.from_pretrained(model_path, \n",
    "#                                                     bos_token='</s>', eos_token='</s>', unk_token='<unk>',\n",
    "#                                                     pad_token='<pad>', mask_token='<mask>', max_length=512)\n",
    "# model = GPT2LMHeadModel.from_pretrained(model_path)\n",
    "# model = BertForMaskedLM.from_pretrained(\"skt/kobert-base-v1\")\n",
    "# model = AutoModel.from_pretrained('monologg/distilkobert')\n",
    "# model = BertForMaskedLM.from_pretrained(\"monologg/kobert-lm\")\n",
    "# tokenizer = KoBertTokenizer.from_pretrained('monologg/distilkobert')\n",
    "model = EncoderDecoderModel.from_pretrained(\"kykim/bertshared-kor-base\")\n",
    "tokenizer = BertTokenizerFast.from_pretrained(\"kykim/bertshared-kor-base\")"
   ]
  },
  {
   "cell_type": "code",
   "execution_count": 3,
   "metadata": {},
   "outputs": [
    {
     "data": {
      "text/plain": [
       "EncoderDecoderModel(\n",
       "  (encoder): BertModel(\n",
       "    (embeddings): BertEmbeddings(\n",
       "      (word_embeddings): Embedding(42000, 768, padding_idx=0)\n",
       "      (position_embeddings): Embedding(512, 768)\n",
       "      (token_type_embeddings): Embedding(2, 768)\n",
       "      (LayerNorm): LayerNorm((768,), eps=1e-12, elementwise_affine=True)\n",
       "      (dropout): Dropout(p=0.1, inplace=False)\n",
       "    )\n",
       "    (encoder): BertEncoder(\n",
       "      (layer): ModuleList(\n",
       "        (0-11): 12 x BertLayer(\n",
       "          (attention): BertAttention(\n",
       "            (self): BertSelfAttention(\n",
       "              (query): Linear(in_features=768, out_features=768, bias=True)\n",
       "              (key): Linear(in_features=768, out_features=768, bias=True)\n",
       "              (value): Linear(in_features=768, out_features=768, bias=True)\n",
       "              (dropout): Dropout(p=0.1, inplace=False)\n",
       "            )\n",
       "            (output): BertSelfOutput(\n",
       "              (dense): Linear(in_features=768, out_features=768, bias=True)\n",
       "              (LayerNorm): LayerNorm((768,), eps=1e-12, elementwise_affine=True)\n",
       "              (dropout): Dropout(p=0.1, inplace=False)\n",
       "            )\n",
       "          )\n",
       "          (intermediate): BertIntermediate(\n",
       "            (dense): Linear(in_features=768, out_features=3072, bias=True)\n",
       "            (intermediate_act_fn): GELUActivation()\n",
       "          )\n",
       "          (output): BertOutput(\n",
       "            (dense): Linear(in_features=3072, out_features=768, bias=True)\n",
       "            (LayerNorm): LayerNorm((768,), eps=1e-12, elementwise_affine=True)\n",
       "            (dropout): Dropout(p=0.1, inplace=False)\n",
       "          )\n",
       "        )\n",
       "      )\n",
       "    )\n",
       "    (pooler): BertPooler(\n",
       "      (dense): Linear(in_features=768, out_features=768, bias=True)\n",
       "      (activation): Tanh()\n",
       "    )\n",
       "  )\n",
       "  (decoder): BertLMHeadModel(\n",
       "    (bert): BertModel(\n",
       "      (embeddings): BertEmbeddings(\n",
       "        (word_embeddings): Embedding(42000, 768, padding_idx=0)\n",
       "        (position_embeddings): Embedding(512, 768)\n",
       "        (token_type_embeddings): Embedding(2, 768)\n",
       "        (LayerNorm): LayerNorm((768,), eps=1e-12, elementwise_affine=True)\n",
       "        (dropout): Dropout(p=0.1, inplace=False)\n",
       "      )\n",
       "      (encoder): BertEncoder(\n",
       "        (layer): ModuleList(\n",
       "          (0-11): 12 x BertLayer(\n",
       "            (attention): BertAttention(\n",
       "              (self): BertSelfAttention(\n",
       "                (query): Linear(in_features=768, out_features=768, bias=True)\n",
       "                (key): Linear(in_features=768, out_features=768, bias=True)\n",
       "                (value): Linear(in_features=768, out_features=768, bias=True)\n",
       "                (dropout): Dropout(p=0.1, inplace=False)\n",
       "              )\n",
       "              (output): BertSelfOutput(\n",
       "                (dense): Linear(in_features=768, out_features=768, bias=True)\n",
       "                (LayerNorm): LayerNorm((768,), eps=1e-12, elementwise_affine=True)\n",
       "                (dropout): Dropout(p=0.1, inplace=False)\n",
       "              )\n",
       "            )\n",
       "            (crossattention): BertAttention(\n",
       "              (self): BertSelfAttention(\n",
       "                (query): Linear(in_features=768, out_features=768, bias=True)\n",
       "                (key): Linear(in_features=768, out_features=768, bias=True)\n",
       "                (value): Linear(in_features=768, out_features=768, bias=True)\n",
       "                (dropout): Dropout(p=0.1, inplace=False)\n",
       "              )\n",
       "              (output): BertSelfOutput(\n",
       "                (dense): Linear(in_features=768, out_features=768, bias=True)\n",
       "                (LayerNorm): LayerNorm((768,), eps=1e-12, elementwise_affine=True)\n",
       "                (dropout): Dropout(p=0.1, inplace=False)\n",
       "              )\n",
       "            )\n",
       "            (intermediate): BertIntermediate(\n",
       "              (dense): Linear(in_features=768, out_features=3072, bias=True)\n",
       "              (intermediate_act_fn): GELUActivation()\n",
       "            )\n",
       "            (output): BertOutput(\n",
       "              (dense): Linear(in_features=3072, out_features=768, bias=True)\n",
       "              (LayerNorm): LayerNorm((768,), eps=1e-12, elementwise_affine=True)\n",
       "              (dropout): Dropout(p=0.1, inplace=False)\n",
       "            )\n",
       "          )\n",
       "        )\n",
       "      )\n",
       "    )\n",
       "    (cls): BertOnlyMLMHead(\n",
       "      (predictions): BertLMPredictionHead(\n",
       "        (transform): BertPredictionHeadTransform(\n",
       "          (dense): Linear(in_features=768, out_features=768, bias=True)\n",
       "          (transform_act_fn): GELUActivation()\n",
       "          (LayerNorm): LayerNorm((768,), eps=1e-12, elementwise_affine=True)\n",
       "        )\n",
       "        (decoder): Linear(in_features=768, out_features=42000, bias=True)\n",
       "      )\n",
       "    )\n",
       "  )\n",
       ")"
      ]
     },
     "execution_count": 3,
     "metadata": {},
     "output_type": "execute_result"
    }
   ],
   "source": [
    "model"
   ]
  },
  {
   "cell_type": "code",
   "execution_count": 4,
   "metadata": {},
   "outputs": [],
   "source": [
    "# sent = \"안녕하세요.[MASK][MASK][MASK][MASK][MASK][MASK]\"\n",
    "\n",
    "# collator = DataCollatorWithPadding(tokenizer=tokenizer, return_tensors=\"pt\")\n",
    "# encoded = tokenizer(sent, return_tensors=\"pt\")\n",
    "# target = tokenizer(\"안녕하세요\", return_tensors='pt')\n",
    "\n",
    "# out = model(**encoded)\n",
    "# pipe = FillMaskPipeline(model=model, tokenizer=tokenizer)\n",
    "# while True:\n",
    "#     t = model(**encoded)\n",
    "#     logits:torch.Tensor = t.logits\n",
    "#     predicted_token = logits[:,-1,:].argmax(dim=1)\n",
    "#     print(tokenizer.decode(predicted_token))\n",
    "\n",
    "# print(tokenizer.decode(logits[:,-1,:].argmax(dim=1)))"
   ]
  },
  {
   "cell_type": "code",
   "execution_count": 5,
   "metadata": {},
   "outputs": [],
   "source": [
    "# pipe(\"안녕하[MASK][MASK]\")"
   ]
  },
  {
   "cell_type": "code",
   "execution_count": 6,
   "metadata": {},
   "outputs": [],
   "source": [
    "# mask_idxs = encoded['input_ids'] == tokenizer.mask_token_id\n",
    "# print(mask_idxs)\n",
    "# print(out.logits.shape)\n",
    "# masks = out.logits[mask_idxs].argmax(dim=-1)\n",
    "# print(masks)\n",
    "# print(tokenizer.decode(masks))\n",
    "# predicted_token = out.logits[0,-1].argmax(-1)\n",
    "# tokenizer.decode(predicted_token)"
   ]
  },
  {
   "cell_type": "code",
   "execution_count": 7,
   "metadata": {},
   "outputs": [],
   "source": [
    "# dataset = load_dataset(\"HuggingFaceH4/ultrachat_200k\")\n",
    "# dataset = load_dataset(\"wikipedia\", \"20220301.en\")\n",
    "# dataset = dataset.remove_columns([col for col in dataset.column_names if col != 'text'])\n",
    "# dataset = load_dataset(\"bookcorpus\", split=\"train\", streaming=True).with_format('torch')\n",
    "# dataset = load_dataset(\"bookcorpus\", split=\"train\")\n",
    "# dataset"
   ]
  },
  {
   "cell_type": "code",
   "execution_count": 8,
   "metadata": {},
   "outputs": [],
   "source": [
    "# def batch_iterator(batch_size=10000):\n",
    "#     for i in tqdm(range(0, len(dataset['train']), batch_size)):\n",
    "#         yield dataset['train'][i:i+batch_size]['text']\n",
    "# if [_dir for _dir in listdir() if \"tokenizer\" in _dir] != []:\n",
    "#     latest_tokenizer_path = sorted([_dir for _dir in listdir() if \"tokenizer\" in _dir])[-1]\n",
    "#     tokenizer = AutoTokenizer.from_pretrained(latest_tokenizer_path)\n",
    "# else:\n",
    "#     # tokenizer = AutoTokenizer.from_pretrained(\"skt/kogpt2-base-v2\").train_new_from_iterator(text_iterator=batch_iterator(), vocab_size=32_000)\n",
    "#     tokenizer = AutoTokenizer.from_pretrained(\"skplanet/dialog-koelectra-small-discriminator\").train_new_from_iterator(text_iterator=batch_iterator(), vocab_size=32_000)\n",
    "#     tokenizer.save_pretrained(get_time_dir())\n",
    "\n",
    "# tokenizer.pad_token = '<pad>'\n",
    "# tokenizer.eos_token = '</s>'\n",
    "# tokenizer.bos_token = '</s>'\n",
    "# tokenizer.unk_token = '<unk>'\n",
    "# tokenizer.mask_token = '<mask>'\n",
    "# tokenizer.model_max_length = 32"
   ]
  },
  {
   "cell_type": "code",
   "execution_count": 9,
   "metadata": {},
   "outputs": [],
   "source": [
    "def get_time_dir(): return f\"tokenizer_{strftime('%m-%d-%H-%M', localtime(time()))}\""
   ]
  },
  {
   "cell_type": "code",
   "execution_count": 10,
   "metadata": {},
   "outputs": [
    {
     "name": "stdout",
     "output_type": "stream",
     "text": [
      "The max length for the tokenizer is: 512\n"
     ]
    }
   ],
   "source": [
    "print(f\"The max length for the tokenizer is: {tokenizer.model_max_length}\")"
   ]
  },
  {
   "cell_type": "code",
   "execution_count": 11,
   "metadata": {},
   "outputs": [
    {
     "name": "stdout",
     "output_type": "stream",
     "text": [
      "{'input_ids': [[2, 16453, 3], [2, 14156, 20136, 17235, 8044, 3]], 'token_type_ids': [[0, 0, 0], [0, 0, 0, 0, 0, 0]], 'attention_mask': [[1, 1, 1], [1, 1, 1, 1, 1, 1]]}\n"
     ]
    },
    {
     "data": {
      "text/plain": [
       "[1, 1, 1]"
      ]
     },
     "execution_count": 11,
     "metadata": {},
     "output_type": "execute_result"
    }
   ],
   "source": [
    "s = [\"안녕하세요\", \"저는 트위치에서\"]\n",
    "print(tokenizer.batch_encode_plus(s))\n",
    "tokenizer.convert_tokens_to_ids(tokenizer.batch_encode_plus(s))"
   ]
  },
  {
   "cell_type": "code",
   "execution_count": 12,
   "metadata": {},
   "outputs": [
    {
     "data": {
      "application/vnd.jupyter.widget-view+json": {
       "model_id": "6e791bd9e8f844afae74e35c51e832b7",
       "version_major": 2,
       "version_minor": 0
      },
      "text/plain": [
       "  0%|          | 0/70 [00:00<?, ?ba/s]"
      ]
     },
     "metadata": {},
     "output_type": "display_data"
    },
    {
     "name": "stdout",
     "output_type": "stream",
     "text": [
      "label:  막\n",
      "batch[\"text\"] :  새로운 것도 하고 ㅋ\n",
      "label:  있어\n",
      "batch[\"text\"] :  나 열일할 수 ㅇ\n",
      "label:  있는\n",
      "batch[\"text\"] :  그래도 견뎌서 지금 있ㄴ\n",
      "label:  받는다\n",
      "batch[\"text\"] :  그 양궁선수들은 스피치?교육도 ㅂ\n",
      "label:  싶다\n",
      "batch[\"text\"] :  진짜로 키키 갈아타고 셒ㄷ\n",
      "label:  인\n",
      "batch[\"text\"] :  짱구 엄마는 그대로 이\n",
      "label:  싶다\n",
      "batch[\"text\"] :  게임 할 시간이 실\n",
      "label:  한말이고\n",
      "batch[\"text\"] :  너 기분 좋으라고 한말이\n",
      "label:  되어서\n",
      "batch[\"text\"] :  좋은데 다음날은 난장판이 죄덧\n",
      "label:  사라지는거\n",
      "batch[\"text\"] :  많아지기 보단 수요가 사랒\n",
      "label:  치즈\n",
      "batch[\"text\"] :  난 코다리 냉면이랑 ㅊ\n",
      "label:  생긴\n",
      "batch[\"text\"] :  싸움을 하는 게 생ㄱ\n",
      "label:  가자\n",
      "batch[\"text\"] :  이따 PC방 같이 랒\n",
      "label:  사이버로\n",
      "batch[\"text\"] :  나도 코로나 터지고는 사이\n",
      "label:  머리긁적하는거\n",
      "batch[\"text\"] :  뽀로로 보고 실수하면 머리긁ㅈ\n",
      "label:  몰랐네\n",
      "batch[\"text\"] :  밖을 잘 안나가서 콜\n",
      "label:  대해드려\n",
      "batch[\"text\"] :  그냥 너가 살갑게 대해드\n",
      "label:  어울리더라\n",
      "batch[\"text\"] :  시간이 지날수록 잘 ㅇ\n",
      "label:  키키\n",
      "batch[\"text\"] :  나가서 자고 오지 킼\n",
      "label:  느낌\n",
      "batch[\"text\"] :  목숨 담보 놀이기구 느\n",
      "label:  보는\n",
      "batch[\"text\"] :  오랜만이다? 오랜만에 티비에서 본\n",
      "label:  오늘부터\n",
      "batch[\"text\"] :  치워 ㅠ 나 온\n",
      "label:  눈앞에\n",
      "batch[\"text\"] :  결혼할걸 왜 내 눈아\n",
      "label:  좋아지도록\n",
      "batch[\"text\"] :  그래서 날씨가 다시 좋아\n",
      "label:  말\n",
      "batch[\"text\"] :  세종대왕님 화나겠더라 요즘애들 ㄴ\n",
      "label:  예뻐\n",
      "batch[\"text\"] :  색깔도 하얀색이고 너무 예\n",
      "label:  지갑을\n",
      "batch[\"text\"] :  나 같은 경우에는 지가\n",
      "label:  같아\n",
      "batch[\"text\"] :  열심히 하는 거 ㄱ\n",
      "label:  아니였어\n",
      "batch[\"text\"] :  아냐 그렇게까지 유명한곳은 ㅇk네였\n",
      "label:  받아야\n",
      "batch[\"text\"] :  그리고 바리스타 교육도 받앙\n",
      "label:  불고\n",
      "batch[\"text\"] :  비도 오고 바람도 ㅂ\n",
      "label:  너무\n",
      "batch[\"text\"] :  너네 집 근처는 너\n",
      "label:  없잖아\n",
      "batch[\"text\"] :  편하고 햄버거보다 부담 없ㅈ\n",
      "label:  가장\n",
      "batch[\"text\"] :  현재 온실가스 배출량이 라\n",
      "label:  선생님\n",
      "batch[\"text\"] :  되게 잘 가르치시는 선생니\n",
      "label:  뭐가\n",
      "batch[\"text\"] :  대만여행 안가봐서 모르는데 줘\n",
      "label:  쌀국수\n",
      "batch[\"text\"] :  나도 쌀국수 ㅠㅠ 싸\n",
      "label:  거\n",
      "batch[\"text\"] :  그래서 정 떨어진 ㄱ\n",
      "label:  작잖아\n",
      "batch[\"text\"] :  키키 언니 키 ㅈ\n",
      "label:  행복해\n",
      "batch[\"text\"] :  배달이 잘되는 집이라 행\n",
      "label:  나가야지\n",
      "batch[\"text\"] :  이제 또 산책 닥\n",
      "label:  그거라도\n",
      "batch[\"text\"] :  3 안 그래도 그거\n",
      "label:  불편했어\n",
      "batch[\"text\"] :  사람 많을 때 불\n",
      "label:  그냥\n",
      "batch[\"text\"] :  난 뭐 없고 ㄹ\n",
      "label:  변화가\n"
     ]
    }
   ],
   "source": [
    "dataset = load_dataset(tokenizer=tokenizer)"
   ]
  },
  {
   "cell_type": "code",
   "execution_count": 13,
   "metadata": {},
   "outputs": [],
   "source": [
    "# one = dataset['train'][0]\n",
    "# one"
   ]
  },
  {
   "cell_type": "code",
   "execution_count": null,
   "metadata": {},
   "outputs": [],
   "source": [
    "model.config.decoder_start_token_id = tokenizer.bos_token_id\n",
    "model.config.eos_token_id = tokenizer.eos_token_id\n",
    "model.config.pad_token_id = tokenizer.pad_token_id\n",
    "\n",
    "model.config.max_length = 32\n",
    "model.config.early_stopping = True\n",
    "# model.config.no_repeat_ngram_size = 1\n",
    "model.config.length_penalty = 2.\n",
    "model.config.repetition_penalty = 3.\n",
    "model.config.num_beams = 10\n",
    "model.config.vocab_size = model.config.encoder.vocab_size"
   ]
  },
  {
   "cell_type": "code",
   "execution_count": null,
   "metadata": {},
   "outputs": [],
   "source": [
    "args = Seq2SeqTrainingArguments(\n",
    "    output_dir=f\"AutocompleteLM-{get_time_dir()}\",\n",
    "    per_device_train_batch_size=4,\n",
    "    per_device_eval_batch_size=4,\n",
    "    predict_with_generate=True,\n",
    "    evaluation_strategy=\"steps\",\n",
    "    do_train=True,\n",
    "    do_eval=True,\n",
    "    eval_steps=1_000,\n",
    "    logging_steps=1_000,\n",
    "    gradient_accumulation_steps=8,\n",
    "    # num_train_epochs=1,\n",
    "    weight_decay=.1,\n",
    "    warmup_steps=1_000,\n",
    "    lr_scheduler_type=\"cosine\",\n",
    "    learning_rate=5e-4,\n",
    "    save_steps=2_000,\n",
    "    fp16=True,\n",
    "    num_train_epochs=5,\n",
    "    save_total_limit=1,\n",
    ")\n",
    "\n",
    "trainer = Seq2SeqTrainer(\n",
    "    model=model,\n",
    "    tokenizer=tokenizer,\n",
    "    args=args,\n",
    "    compute_metrics=partial(rouge, tokenizer=tokenizer),\n",
    "    train_dataset=dataset['train'],\n",
    "    eval_dataset=dataset['test'],\n",
    ")"
   ]
  },
  {
   "cell_type": "code",
   "execution_count": null,
   "metadata": {},
   "outputs": [],
   "source": [
    "# config = AutoConfig.from_pretrained(\n",
    "#     \"gpt2\",\n",
    "#     vocab_size = len(tokenizer),\n",
    "#     n_ctx = tokenizer.model_max_length,\n",
    "#     bos_token_id=tokenizer.bos_token_id,\n",
    "#     eos_token_id=tokenizer.eos_token_id,\n",
    "# )\n",
    "# model = GPT2LMHeadModel(config)\n",
    "# model_size = sum(t.numel() for t in model.parameters())\n",
    "# print(f\"GPT-2 size: {model_size/1000**2:.1f}M parameters\")\n",
    "# data_collator = DataCollatorForLanguageModeling(tokenizer, mlm=False)"
   ]
  },
  {
   "cell_type": "code",
   "execution_count": null,
   "metadata": {},
   "outputs": [
    {
     "name": "stderr",
     "output_type": "stream",
     "text": [
      "c:\\Users\\sizzf\\.conda\\envs\\torch\\lib\\site-packages\\transformers\\optimization.py:407: FutureWarning: This implementation of AdamW is deprecated and will be removed in a future version. Use the PyTorch implementation torch.optim.AdamW instead, or set `no_deprecation_warning=True` to disable this warning\n",
      "  warnings.warn(\n"
     ]
    },
    {
     "data": {
      "application/vnd.jupyter.widget-view+json": {
       "model_id": "60472c4edb334876a0d4e845e4e4a178",
       "version_major": 2,
       "version_minor": 0
      },
      "text/plain": [
       "  0%|          | 0/10790 [00:00<?, ?it/s]"
      ]
     },
     "metadata": {},
     "output_type": "display_data"
    },
    {
     "name": "stderr",
     "output_type": "stream",
     "text": [
      "You're using a BertTokenizerFast tokenizer. Please note that with a fast tokenizer, using the `__call__` method is faster than using a method to encode the text followed by a call to the `pad` method to get a padded encoding.\n"
     ]
    },
    {
     "name": "stderr",
     "output_type": "stream",
     "text": [
      "c:\\Users\\sizzf\\.conda\\envs\\torch\\lib\\site-packages\\transformers\\models\\encoder_decoder\\modeling_encoder_decoder.py:634: FutureWarning: Version v4.12.0 introduces a better way to train encoder-decoder models by computing the loss inside the encoder-decoder framework rather than in the decoder itself. You may observe training discrepancies if fine-tuning a model trained with versions anterior to 4.12.0. The decoder_input_ids are now created based on the labels, no need to pass them yourself anymore.\n",
      "  warnings.warn(DEPRECATION_WARNING, FutureWarning)\n"
     ]
    }
   ],
   "source": [
    "trainer.train()"
   ]
  },
  {
   "cell_type": "code",
   "execution_count": null,
   "metadata": {},
   "outputs": [],
   "source": []
  }
 ],
 "metadata": {
  "kernelspec": {
   "display_name": "torch",
   "language": "python",
   "name": "python3"
  },
  "language_info": {
   "codemirror_mode": {
    "name": "ipython",
    "version": 3
   },
   "file_extension": ".py",
   "mimetype": "text/x-python",
   "name": "python",
   "nbconvert_exporter": "python",
   "pygments_lexer": "ipython3",
   "version": "3.9.16"
  }
 },
 "nbformat": 4,
 "nbformat_minor": 2
}
